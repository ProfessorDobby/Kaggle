{
 "cells": [
  {
   "cell_type": "markdown",
   "id": "829e017b",
   "metadata": {
    "papermill": {
     "duration": 0.008545,
     "end_time": "2022-08-17T18:59:40.531925",
     "exception": false,
     "start_time": "2022-08-17T18:59:40.523380",
     "status": "completed"
    },
    "tags": []
   },
   "source": [
    "#                                   Multiple Linear Regression"
   ]
  },
  {
   "cell_type": "markdown",
   "id": "099b3ca4",
   "metadata": {
    "papermill": {
     "duration": 0.0069,
     "end_time": "2022-08-17T18:59:40.546271",
     "exception": false,
     "start_time": "2022-08-17T18:59:40.539371",
     "status": "completed"
    },
    "tags": []
   },
   "source": [
    "### Combined Cycle Power Plant DataSet\n",
    "\n",
    "--The dataset contains 9568 data points collected from a Combined Cycle Power Plant over 6 years (2006-2011), when the plant was set to work with full load."
   ]
  },
  {
   "cell_type": "markdown",
   "id": "a73c5ba9",
   "metadata": {
    "papermill": {
     "duration": 0.006884,
     "end_time": "2022-08-17T18:59:40.560381",
     "exception": false,
     "start_time": "2022-08-17T18:59:40.553497",
     "status": "completed"
    },
    "tags": []
   },
   "source": [
    "##### Attribute Information\n",
    "<ul>\n",
    "Features consist of hourly average ambient variables\n",
    "    \n",
    "<li>Temperature (T) ->  1.81°C and 37.11°C,\n",
    "<li>Ambient Pressure (AP) -> 992.89-1033.30 milibar,\n",
    "<li>Relative Humidity (RH) -> 25.56% to 100.16%\n",
    "<li>Exhaust Vacuum (V) -> 25.36-81.56 cm Hg\n",
    "    \n",
    "<li>Net hourly electrical energy output (EP) 420.26-495.76 MW\n",
    "The averages are taken from various sensors located around the plant that record the ambient variables every second. The variables are given without normalization. </li>\n",
    "</ul>\n",
    "\n",
    "[DataSet Download Link](https://archive.ics.uci.edu/ml/machine-learning-databases/00294/)"
   ]
  },
  {
   "cell_type": "code",
   "execution_count": 1,
   "id": "2a630bdf",
   "metadata": {
    "execution": {
     "iopub.execute_input": "2022-08-17T18:59:40.576702Z",
     "iopub.status.busy": "2022-08-17T18:59:40.575918Z",
     "iopub.status.idle": "2022-08-17T18:59:40.587036Z",
     "shell.execute_reply": "2022-08-17T18:59:40.585878Z"
    },
    "papermill": {
     "duration": 0.022389,
     "end_time": "2022-08-17T18:59:40.589787",
     "exception": false,
     "start_time": "2022-08-17T18:59:40.567398",
     "status": "completed"
    },
    "tags": []
   },
   "outputs": [],
   "source": [
    "import pandas as pd\n",
    "import numpy as np\n",
    "import matplotlib.pyplot as plt"
   ]
  },
  {
   "cell_type": "markdown",
   "id": "bc36032e",
   "metadata": {
    "papermill": {
     "duration": 0.006946,
     "end_time": "2022-08-17T18:59:40.604031",
     "exception": false,
     "start_time": "2022-08-17T18:59:40.597085",
     "status": "completed"
    },
    "tags": []
   },
   "source": [
    "### Part 1 - Data Preprocessing"
   ]
  },
  {
   "cell_type": "code",
   "execution_count": 2,
   "id": "8913b1d0",
   "metadata": {
    "execution": {
     "iopub.execute_input": "2022-08-17T18:59:40.622166Z",
     "iopub.status.busy": "2022-08-17T18:59:40.621741Z",
     "iopub.status.idle": "2022-08-17T18:59:40.670407Z",
     "shell.execute_reply": "2022-08-17T18:59:40.669542Z"
    },
    "papermill": {
     "duration": 0.061333,
     "end_time": "2022-08-17T18:59:40.672686",
     "exception": false,
     "start_time": "2022-08-17T18:59:40.611353",
     "status": "completed"
    },
    "tags": []
   },
   "outputs": [
    {
     "name": "stdout",
     "output_type": "stream",
     "text": [
      "<class 'pandas.core.frame.DataFrame'>\n",
      "RangeIndex: 9568 entries, 0 to 9567\n",
      "Data columns (total 5 columns):\n",
      " #   Column  Non-Null Count  Dtype  \n",
      "---  ------  --------------  -----  \n",
      " 0   AT      9568 non-null   float64\n",
      " 1   V       9568 non-null   float64\n",
      " 2   AP      9568 non-null   float64\n",
      " 3   RH      9568 non-null   float64\n",
      " 4   PE      9568 non-null   float64\n",
      "dtypes: float64(5)\n",
      "memory usage: 373.9 KB\n"
     ]
    }
   ],
   "source": [
    "df = pd.read_csv(\"../input/airpressure/Folds5x2_pp.csv\")\n",
    "x = df.iloc[:, :-1].values\n",
    "y = df.iloc[:, -1].values\n",
    "\n",
    "df.info()  # to get the information about the dataframe"
   ]
  },
  {
   "cell_type": "markdown",
   "id": "b97e25da",
   "metadata": {
    "papermill": {
     "duration": 0.006831,
     "end_time": "2022-08-17T18:59:40.686788",
     "exception": false,
     "start_time": "2022-08-17T18:59:40.679957",
     "status": "completed"
    },
    "tags": []
   },
   "source": [
    " There is no null value present in the data set"
   ]
  },
  {
   "cell_type": "code",
   "execution_count": 3,
   "id": "84124114",
   "metadata": {
    "execution": {
     "iopub.execute_input": "2022-08-17T18:59:40.702710Z",
     "iopub.status.busy": "2022-08-17T18:59:40.701926Z",
     "iopub.status.idle": "2022-08-17T18:59:40.738197Z",
     "shell.execute_reply": "2022-08-17T18:59:40.737035Z"
    },
    "papermill": {
     "duration": 0.046957,
     "end_time": "2022-08-17T18:59:40.740554",
     "exception": false,
     "start_time": "2022-08-17T18:59:40.693597",
     "status": "completed"
    },
    "tags": []
   },
   "outputs": [
    {
     "data": {
      "text/html": [
       "<div>\n",
       "<style scoped>\n",
       "    .dataframe tbody tr th:only-of-type {\n",
       "        vertical-align: middle;\n",
       "    }\n",
       "\n",
       "    .dataframe tbody tr th {\n",
       "        vertical-align: top;\n",
       "    }\n",
       "\n",
       "    .dataframe thead th {\n",
       "        text-align: right;\n",
       "    }\n",
       "</style>\n",
       "<table border=\"1\" class=\"dataframe\">\n",
       "  <thead>\n",
       "    <tr style=\"text-align: right;\">\n",
       "      <th></th>\n",
       "      <th>AT</th>\n",
       "      <th>V</th>\n",
       "      <th>AP</th>\n",
       "      <th>RH</th>\n",
       "      <th>PE</th>\n",
       "    </tr>\n",
       "  </thead>\n",
       "  <tbody>\n",
       "    <tr>\n",
       "      <th>count</th>\n",
       "      <td>9568.000000</td>\n",
       "      <td>9568.000000</td>\n",
       "      <td>9568.000000</td>\n",
       "      <td>9568.000000</td>\n",
       "      <td>9568.000000</td>\n",
       "    </tr>\n",
       "    <tr>\n",
       "      <th>mean</th>\n",
       "      <td>19.651231</td>\n",
       "      <td>54.305804</td>\n",
       "      <td>1013.259078</td>\n",
       "      <td>73.308978</td>\n",
       "      <td>454.365009</td>\n",
       "    </tr>\n",
       "    <tr>\n",
       "      <th>std</th>\n",
       "      <td>7.452473</td>\n",
       "      <td>12.707893</td>\n",
       "      <td>5.938784</td>\n",
       "      <td>14.600269</td>\n",
       "      <td>17.066995</td>\n",
       "    </tr>\n",
       "    <tr>\n",
       "      <th>min</th>\n",
       "      <td>1.810000</td>\n",
       "      <td>25.360000</td>\n",
       "      <td>992.890000</td>\n",
       "      <td>25.560000</td>\n",
       "      <td>420.260000</td>\n",
       "    </tr>\n",
       "    <tr>\n",
       "      <th>25%</th>\n",
       "      <td>13.510000</td>\n",
       "      <td>41.740000</td>\n",
       "      <td>1009.100000</td>\n",
       "      <td>63.327500</td>\n",
       "      <td>439.750000</td>\n",
       "    </tr>\n",
       "    <tr>\n",
       "      <th>50%</th>\n",
       "      <td>20.345000</td>\n",
       "      <td>52.080000</td>\n",
       "      <td>1012.940000</td>\n",
       "      <td>74.975000</td>\n",
       "      <td>451.550000</td>\n",
       "    </tr>\n",
       "    <tr>\n",
       "      <th>75%</th>\n",
       "      <td>25.720000</td>\n",
       "      <td>66.540000</td>\n",
       "      <td>1017.260000</td>\n",
       "      <td>84.830000</td>\n",
       "      <td>468.430000</td>\n",
       "    </tr>\n",
       "    <tr>\n",
       "      <th>max</th>\n",
       "      <td>37.110000</td>\n",
       "      <td>81.560000</td>\n",
       "      <td>1033.300000</td>\n",
       "      <td>100.160000</td>\n",
       "      <td>495.760000</td>\n",
       "    </tr>\n",
       "  </tbody>\n",
       "</table>\n",
       "</div>"
      ],
      "text/plain": [
       "                AT            V           AP           RH           PE\n",
       "count  9568.000000  9568.000000  9568.000000  9568.000000  9568.000000\n",
       "mean     19.651231    54.305804  1013.259078    73.308978   454.365009\n",
       "std       7.452473    12.707893     5.938784    14.600269    17.066995\n",
       "min       1.810000    25.360000   992.890000    25.560000   420.260000\n",
       "25%      13.510000    41.740000  1009.100000    63.327500   439.750000\n",
       "50%      20.345000    52.080000  1012.940000    74.975000   451.550000\n",
       "75%      25.720000    66.540000  1017.260000    84.830000   468.430000\n",
       "max      37.110000    81.560000  1033.300000   100.160000   495.760000"
      ]
     },
     "execution_count": 3,
     "metadata": {},
     "output_type": "execute_result"
    }
   ],
   "source": [
    "# checking the whole descriptive statistics summary of Data Frame. \n",
    "df.describe()"
   ]
  },
  {
   "cell_type": "code",
   "execution_count": 4,
   "id": "da088cc2",
   "metadata": {
    "execution": {
     "iopub.execute_input": "2022-08-17T18:59:40.756040Z",
     "iopub.status.busy": "2022-08-17T18:59:40.755447Z",
     "iopub.status.idle": "2022-08-17T18:59:41.379686Z",
     "shell.execute_reply": "2022-08-17T18:59:41.378473Z"
    },
    "papermill": {
     "duration": 0.63521,
     "end_time": "2022-08-17T18:59:41.382765",
     "exception": false,
     "start_time": "2022-08-17T18:59:40.747555",
     "status": "completed"
    },
    "tags": []
   },
   "outputs": [
    {
     "data": {
      "image/png": "[encoded data removed]",
      "text/plain": [
       "<Figure size 1080x360 with 4 Axes>"
      ]
     },
     "metadata": {
      "needs_background": "light"
     },
     "output_type": "display_data"
    }
   ],
   "source": [
    "# Scatter Plot\n",
    "\n",
    "# df.subplot(kind=\"scatter\", x=\"AT\", y=\"PE\")\n",
    "# df.subplot(kind=\"scatter\", x=\"V\", y=\"PE\")\n",
    "# df.subplot(kind=\"scatter\", x=\"AP\", y=\"PE\")\n",
    "# df.subplot(kind=\"scatter\", x=\"RH\", y=\"PE\")\n",
    "\n",
    "\n",
    "fig, axes = plt.subplots(1,len(df.columns.values)-1, sharey=True, figsize=(15, 5))\n",
    "\n",
    "for i, col in enumerate(df.columns.values[:-1]):\n",
    "    df.plot(x=[col], y=[\"PE\"], kind=\"scatter\", ax=axes[i])\n",
    "\n",
    "plt.show()\n"
   ]
  },
  {
   "cell_type": "markdown",
   "id": "6b982f30",
   "metadata": {
    "papermill": {
     "duration": 0.011122,
     "end_time": "2022-08-17T18:59:41.404787",
     "exception": false,
     "start_time": "2022-08-17T18:59:41.393665",
     "status": "completed"
    },
    "tags": []
   },
   "source": [
    "#### Splitting the dataset into the Training set and Test set"
   ]
  },
  {
   "cell_type": "code",
   "execution_count": 5,
   "id": "4b862592",
   "metadata": {
    "execution": {
     "iopub.execute_input": "2022-08-17T18:59:41.424926Z",
     "iopub.status.busy": "2022-08-17T18:59:41.424329Z",
     "iopub.status.idle": "2022-08-17T18:59:42.600894Z",
     "shell.execute_reply": "2022-08-17T18:59:42.599586Z"
    },
    "papermill": {
     "duration": 1.189883,
     "end_time": "2022-08-17T18:59:42.603667",
     "exception": false,
     "start_time": "2022-08-17T18:59:41.413784",
     "status": "completed"
    },
    "tags": []
   },
   "outputs": [],
   "source": [
    "from sklearn.model_selection import train_test_split\n",
    "\n",
    "# Splitting dataset into 80%, 20% \n",
    "# 80% for training & 20% for testing\n",
    "\n",
    "x_train, x_test, y_train, y_test = train_test_split(x,y,test_size=0.2,random_state = 4)"
   ]
  },
  {
   "cell_type": "markdown",
   "id": "6d194422",
   "metadata": {
    "papermill": {
     "duration": 0.008168,
     "end_time": "2022-08-17T18:59:42.620184",
     "exception": false,
     "start_time": "2022-08-17T18:59:42.612016",
     "status": "completed"
    },
    "tags": []
   },
   "source": [
    "### Part 2 "
   ]
  },
  {
   "cell_type": "code",
   "execution_count": 6,
   "id": "901ee1ca",
   "metadata": {
    "execution": {
     "iopub.execute_input": "2022-08-17T18:59:42.638645Z",
     "iopub.status.busy": "2022-08-17T18:59:42.638228Z",
     "iopub.status.idle": "2022-08-17T18:59:42.725410Z",
     "shell.execute_reply": "2022-08-17T18:59:42.723932Z"
    },
    "papermill": {
     "duration": 0.099599,
     "end_time": "2022-08-17T18:59:42.728355",
     "exception": false,
     "start_time": "2022-08-17T18:59:42.628756",
     "status": "completed"
    },
    "tags": []
   },
   "outputs": [],
   "source": [
    "from sklearn import linear_model\n",
    "from sklearn.linear_model import LinearRegression\n"
   ]
  },
  {
   "cell_type": "code",
   "execution_count": 7,
   "id": "5f92c7d2",
   "metadata": {
    "execution": {
     "iopub.execute_input": "2022-08-17T18:59:42.747612Z",
     "iopub.status.busy": "2022-08-17T18:59:42.747193Z",
     "iopub.status.idle": "2022-08-17T18:59:42.776001Z",
     "shell.execute_reply": "2022-08-17T18:59:42.774901Z"
    },
    "papermill": {
     "duration": 0.041173,
     "end_time": "2022-08-17T18:59:42.778294",
     "exception": false,
     "start_time": "2022-08-17T18:59:42.737121",
     "status": "completed"
    },
    "tags": []
   },
   "outputs": [
    {
     "data": {
      "text/plain": [
       "LinearRegression()"
      ]
     },
     "execution_count": 7,
     "metadata": {},
     "output_type": "execute_result"
    }
   ],
   "source": [
    "mlr = LinearRegression()\n",
    "mlr.fit(x_train,y_train)"
   ]
  },
  {
   "cell_type": "code",
   "execution_count": 8,
   "id": "cc756c0e",
   "metadata": {
    "execution": {
     "iopub.execute_input": "2022-08-17T18:59:42.797192Z",
     "iopub.status.busy": "2022-08-17T18:59:42.796800Z",
     "iopub.status.idle": "2022-08-17T18:59:42.802401Z",
     "shell.execute_reply": "2022-08-17T18:59:42.801303Z"
    },
    "papermill": {
     "duration": 0.017903,
     "end_time": "2022-08-17T18:59:42.804826",
     "exception": false,
     "start_time": "2022-08-17T18:59:42.786923",
     "status": "completed"
    },
    "tags": []
   },
   "outputs": [],
   "source": [
    "y_predict = mlr.predict(x_test)"
   ]
  },
  {
   "cell_type": "code",
   "execution_count": 9,
   "id": "46342b2b",
   "metadata": {
    "execution": {
     "iopub.execute_input": "2022-08-17T18:59:42.824056Z",
     "iopub.status.busy": "2022-08-17T18:59:42.823727Z",
     "iopub.status.idle": "2022-08-17T18:59:42.829164Z",
     "shell.execute_reply": "2022-08-17T18:59:42.828164Z"
    },
    "papermill": {
     "duration": 0.01803,
     "end_time": "2022-08-17T18:59:42.831775",
     "exception": false,
     "start_time": "2022-08-17T18:59:42.813745",
     "status": "completed"
    },
    "tags": []
   },
   "outputs": [
    {
     "name": "stdout",
     "output_type": "stream",
     "text": [
      "Coefficient:  [-1.96570132 -0.24151324  0.05613097 -0.15742374]\n"
     ]
    }
   ],
   "source": [
    "print(\"Coefficient: \",mlr.coef_)"
   ]
  },
  {
   "cell_type": "markdown",
   "id": "f7d0f77b",
   "metadata": {
    "papermill": {
     "duration": 0.007996,
     "end_time": "2022-08-17T18:59:42.848265",
     "exception": false,
     "start_time": "2022-08-17T18:59:42.840269",
     "status": "completed"
    },
    "tags": []
   },
   "source": [
    "## Visualising the Difference between predicted and actual test values"
   ]
  },
  {
   "cell_type": "code",
   "execution_count": 10,
   "id": "f3ddc8a5",
   "metadata": {
    "execution": {
     "iopub.execute_input": "2022-08-17T18:59:42.866631Z",
     "iopub.status.busy": "2022-08-17T18:59:42.865981Z",
     "iopub.status.idle": "2022-08-17T18:59:43.043175Z",
     "shell.execute_reply": "2022-08-17T18:59:43.042251Z"
    },
    "papermill": {
     "duration": 0.189344,
     "end_time": "2022-08-17T18:59:43.045571",
     "exception": false,
     "start_time": "2022-08-17T18:59:42.856227",
     "status": "completed"
    },
    "tags": []
   },
   "outputs": [],
   "source": [
    "import seaborn as sns"
   ]
  },
  {
   "cell_type": "code",
   "execution_count": 11,
   "id": "3dd7db8c",
   "metadata": {
    "execution": {
     "iopub.execute_input": "2022-08-17T18:59:43.064491Z",
     "iopub.status.busy": "2022-08-17T18:59:43.064102Z",
     "iopub.status.idle": "2022-08-17T18:59:43.308103Z",
     "shell.execute_reply": "2022-08-17T18:59:43.307107Z"
    },
    "papermill": {
     "duration": 0.256263,
     "end_time": "2022-08-17T18:59:43.310810",
     "exception": false,
     "start_time": "2022-08-17T18:59:43.054547",
     "status": "completed"
    },
    "tags": []
   },
   "outputs": [
    {
     "data": {
      "text/plain": [
       "<seaborn.axisgrid.FacetGrid at 0x7f959bf5cf90>"
      ]
     },
     "execution_count": 11,
     "metadata": {},
     "output_type": "execute_result"
    },
    {
     "data": {
      "image/png": "[encoded data removed]",
      "text/plain": [
       "<Figure size 360x360 with 1 Axes>"
      ]
     },
     "metadata": {
      "needs_background": "light"
     },
     "output_type": "display_data"
    }
   ],
   "source": [
    "sns.displot(y_predict - y_test, kind ='kde')"
   ]
  },
  {
   "cell_type": "markdown",
   "id": "5adb09de",
   "metadata": {
    "papermill": {
     "duration": 0.009394,
     "end_time": "2022-08-17T18:59:43.330397",
     "exception": false,
     "start_time": "2022-08-17T18:59:43.321003",
     "status": "completed"
    },
    "tags": []
   },
   "source": [
    "Varience is good (between -10 to 10)"
   ]
  },
  {
   "cell_type": "code",
   "execution_count": 12,
   "id": "963490ba",
   "metadata": {
    "execution": {
     "iopub.execute_input": "2022-08-17T18:59:43.362857Z",
     "iopub.status.busy": "2022-08-17T18:59:43.362005Z",
     "iopub.status.idle": "2022-08-17T18:59:43.605002Z",
     "shell.execute_reply": "2022-08-17T18:59:43.603714Z"
    },
    "papermill": {
     "duration": 0.265928,
     "end_time": "2022-08-17T18:59:43.607966",
     "exception": false,
     "start_time": "2022-08-17T18:59:43.342038",
     "status": "completed"
    },
    "tags": []
   },
   "outputs": [
    {
     "data": {
      "text/plain": [
       "Text(0, 0.5, 'Predicted')"
      ]
     },
     "execution_count": 12,
     "metadata": {},
     "output_type": "execute_result"
    },
    {
     "data": {
      "image/png": "[encoded data removed]",
      "text/plain": [
       "<Figure size 432x288 with 1 Axes>"
      ]
     },
     "metadata": {
      "needs_background": "light"
     },
     "output_type": "display_data"
    }
   ],
   "source": [
    "\n",
    "plt.scatter(y_predict,y_test)\n",
    "# plt.plot(y_predict, y_test)\n",
    "plt.xlabel(\"Actual\")\n",
    "plt.ylabel(\"Predicted\")"
   ]
  },
  {
   "cell_type": "code",
   "execution_count": 13,
   "id": "dd085d86",
   "metadata": {
    "execution": {
     "iopub.execute_input": "2022-08-17T18:59:43.630148Z",
     "iopub.status.busy": "2022-08-17T18:59:43.629771Z",
     "iopub.status.idle": "2022-08-17T18:59:43.851828Z",
     "shell.execute_reply": "2022-08-17T18:59:43.850740Z"
    },
    "papermill": {
     "duration": 0.235484,
     "end_time": "2022-08-17T18:59:43.854210",
     "exception": false,
     "start_time": "2022-08-17T18:59:43.618726",
     "status": "completed"
    },
    "tags": []
   },
   "outputs": [
    {
     "data": {
      "text/plain": [
       "<AxesSubplot:>"
      ]
     },
     "execution_count": 13,
     "metadata": {},
     "output_type": "execute_result"
    },
    {
     "data": {
      "image/png": "[encoded data removed]",
      "text/plain": [
       "<Figure size 432x288 with 1 Axes>"
      ]
     },
     "metadata": {
      "needs_background": "light"
     },
     "output_type": "display_data"
    }
   ],
   "source": [
    "# Box Plot\n",
    "df.plot(kind=\"box\")"
   ]
  },
  {
   "cell_type": "code",
   "execution_count": 14,
   "id": "4f09d340",
   "metadata": {
    "execution": {
     "iopub.execute_input": "2022-08-17T18:59:43.878413Z",
     "iopub.status.busy": "2022-08-17T18:59:43.877763Z",
     "iopub.status.idle": "2022-08-17T18:59:43.881994Z",
     "shell.execute_reply": "2022-08-17T18:59:43.881227Z"
    },
    "papermill": {
     "duration": 0.01879,
     "end_time": "2022-08-17T18:59:43.884117",
     "exception": false,
     "start_time": "2022-08-17T18:59:43.865327",
     "status": "completed"
    },
    "tags": []
   },
   "outputs": [],
   "source": [
    "from sklearn.metrics import r2_score"
   ]
  },
  {
   "cell_type": "code",
   "execution_count": 15,
   "id": "8e3af0a8",
   "metadata": {
    "execution": {
     "iopub.execute_input": "2022-08-17T18:59:43.908232Z",
     "iopub.status.busy": "2022-08-17T18:59:43.907641Z",
     "iopub.status.idle": "2022-08-17T18:59:43.912423Z",
     "shell.execute_reply": "2022-08-17T18:59:43.911709Z"
    },
    "papermill": {
     "duration": 0.019781,
     "end_time": "2022-08-17T18:59:43.914805",
     "exception": false,
     "start_time": "2022-08-17T18:59:43.895024",
     "status": "completed"
    },
    "tags": []
   },
   "outputs": [],
   "source": [
    "score = r2_score(y_predict, y_test)"
   ]
  },
  {
   "cell_type": "code",
   "execution_count": 16,
   "id": "5f28f786",
   "metadata": {
    "execution": {
     "iopub.execute_input": "2022-08-17T18:59:43.938241Z",
     "iopub.status.busy": "2022-08-17T18:59:43.937147Z",
     "iopub.status.idle": "2022-08-17T18:59:43.944840Z",
     "shell.execute_reply": "2022-08-17T18:59:43.943707Z"
    },
    "papermill": {
     "duration": 0.021614,
     "end_time": "2022-08-17T18:59:43.947104",
     "exception": false,
     "start_time": "2022-08-17T18:59:43.925490",
     "status": "completed"
    },
    "tags": []
   },
   "outputs": [
    {
     "data": {
      "text/plain": [
       "0.9257302405560971"
      ]
     },
     "execution_count": 16,
     "metadata": {},
     "output_type": "execute_result"
    }
   ],
   "source": [
    "score"
   ]
  },
  {
   "cell_type": "markdown",
   "id": "7b35e396",
   "metadata": {
    "papermill": {
     "duration": 0.010902,
     "end_time": "2022-08-17T18:59:43.969161",
     "exception": false,
     "start_time": "2022-08-17T18:59:43.958259",
     "status": "completed"
    },
    "tags": []
   },
   "source": [
    "\n",
    "### Difference between Predicted and Actual Value"
   ]
  },
  {
   "cell_type": "code",
   "execution_count": 17,
   "id": "59a76a5e",
   "metadata": {
    "execution": {
     "iopub.execute_input": "2022-08-17T18:59:43.992594Z",
     "iopub.status.busy": "2022-08-17T18:59:43.992053Z",
     "iopub.status.idle": "2022-08-17T18:59:43.998731Z",
     "shell.execute_reply": "2022-08-17T18:59:43.997807Z"
    },
    "papermill": {
     "duration": 0.021071,
     "end_time": "2022-08-17T18:59:44.001169",
     "exception": false,
     "start_time": "2022-08-17T18:59:43.980098",
     "status": "completed"
    },
    "tags": []
   },
   "outputs": [],
   "source": [
    "secDF = pd.DataFrame(data={'Actual': y_test, 'Predicted': y_predict, 'Difference': y_test - y_predict})"
   ]
  },
  {
   "cell_type": "code",
   "execution_count": 18,
   "id": "ebfa5b66",
   "metadata": {
    "execution": {
     "iopub.execute_input": "2022-08-17T18:59:44.024358Z",
     "iopub.status.busy": "2022-08-17T18:59:44.023972Z",
     "iopub.status.idle": "2022-08-17T18:59:44.041144Z",
     "shell.execute_reply": "2022-08-17T18:59:44.040010Z"
    },
    "papermill": {
     "duration": 0.031962,
     "end_time": "2022-08-17T18:59:44.043966",
     "exception": false,
     "start_time": "2022-08-17T18:59:44.012004",
     "status": "completed"
    },
    "tags": []
   },
   "outputs": [],
   "source": [
    "secDF.to_csv(\"predict_diff.csv\")"
   ]
  },
  {
   "cell_type": "code",
   "execution_count": 19,
   "id": "e3cca3a0",
   "metadata": {
    "execution": {
     "iopub.execute_input": "2022-08-17T18:59:44.067308Z",
     "iopub.status.busy": "2022-08-17T18:59:44.066139Z",
     "iopub.status.idle": "2022-08-17T18:59:44.077951Z",
     "shell.execute_reply": "2022-08-17T18:59:44.077123Z"
    },
    "papermill": {
     "duration": 0.025823,
     "end_time": "2022-08-17T18:59:44.080164",
     "exception": false,
     "start_time": "2022-08-17T18:59:44.054341",
     "status": "completed"
    },
    "tags": []
   },
   "outputs": [
    {
     "data": {
      "text/html": [
       "<div>\n",
       "<style scoped>\n",
       "    .dataframe tbody tr th:only-of-type {\n",
       "        vertical-align: middle;\n",
       "    }\n",
       "\n",
       "    .dataframe tbody tr th {\n",
       "        vertical-align: top;\n",
       "    }\n",
       "\n",
       "    .dataframe thead th {\n",
       "        text-align: right;\n",
       "    }\n",
       "</style>\n",
       "<table border=\"1\" class=\"dataframe\">\n",
       "  <thead>\n",
       "    <tr style=\"text-align: right;\">\n",
       "      <th></th>\n",
       "      <th>Actual</th>\n",
       "      <th>Predicted</th>\n",
       "      <th>Difference</th>\n",
       "    </tr>\n",
       "  </thead>\n",
       "  <tbody>\n",
       "    <tr>\n",
       "      <th>0</th>\n",
       "      <td>488.99</td>\n",
       "      <td>480.253795</td>\n",
       "      <td>8.736205</td>\n",
       "    </tr>\n",
       "    <tr>\n",
       "      <th>1</th>\n",
       "      <td>477.50</td>\n",
       "      <td>473.002303</td>\n",
       "      <td>4.497697</td>\n",
       "    </tr>\n",
       "    <tr>\n",
       "      <th>2</th>\n",
       "      <td>448.04</td>\n",
       "      <td>447.200802</td>\n",
       "      <td>0.839198</td>\n",
       "    </tr>\n",
       "    <tr>\n",
       "      <th>3</th>\n",
       "      <td>472.50</td>\n",
       "      <td>469.401859</td>\n",
       "      <td>3.098141</td>\n",
       "    </tr>\n",
       "    <tr>\n",
       "      <th>4</th>\n",
       "      <td>475.51</td>\n",
       "      <td>473.861379</td>\n",
       "      <td>1.648621</td>\n",
       "    </tr>\n",
       "  </tbody>\n",
       "</table>\n",
       "</div>"
      ],
      "text/plain": [
       "   Actual   Predicted  Difference\n",
       "0  488.99  480.253795    8.736205\n",
       "1  477.50  473.002303    4.497697\n",
       "2  448.04  447.200802    0.839198\n",
       "3  472.50  469.401859    3.098141\n",
       "4  475.51  473.861379    1.648621"
      ]
     },
     "execution_count": 19,
     "metadata": {},
     "output_type": "execute_result"
    }
   ],
   "source": [
    "secDF.head()"
   ]
  },
  {
   "cell_type": "markdown",
   "id": "95fe8441",
   "metadata": {
    "papermill": {
     "duration": 0.010761,
     "end_time": "2022-08-17T18:59:44.102042",
     "exception": false,
     "start_time": "2022-08-17T18:59:44.091281",
     "status": "completed"
    },
    "tags": []
   },
   "source": [
    "## Mean Square Error\n",
    "\n",
    "$MSE = \\frac{1}{n} \\sum \\limits _{i=1} ^{n} (Y_{i} - \\hat{Y}_{i} )^2$\n",
    "\n",
    "\n",
    "$\\mathrm{MSE}\t=\tmean\\ squared\\ error$<br>\n",
    "${n}\t=\tnumber\\ of\\ data\\ points $<br>\n",
    "$Y_{i}\t=\tobserved\\ values$<br>\n",
    "$\\hat{Y}_{i}\t=\tpredicted\\ values$<br>\n"
   ]
  },
  {
   "cell_type": "code",
   "execution_count": 20,
   "id": "cd528178",
   "metadata": {
    "execution": {
     "iopub.execute_input": "2022-08-17T18:59:44.125239Z",
     "iopub.status.busy": "2022-08-17T18:59:44.124020Z",
     "iopub.status.idle": "2022-08-17T18:59:44.129266Z",
     "shell.execute_reply": "2022-08-17T18:59:44.128324Z"
    },
    "papermill": {
     "duration": 0.018917,
     "end_time": "2022-08-17T18:59:44.131293",
     "exception": false,
     "start_time": "2022-08-17T18:59:44.112376",
     "status": "completed"
    },
    "tags": []
   },
   "outputs": [],
   "source": [
    "from sklearn.metrics import mean_squared_error"
   ]
  },
  {
   "cell_type": "code",
   "execution_count": 21,
   "id": "61101c6d",
   "metadata": {
    "execution": {
     "iopub.execute_input": "2022-08-17T18:59:44.153750Z",
     "iopub.status.busy": "2022-08-17T18:59:44.153217Z",
     "iopub.status.idle": "2022-08-17T18:59:44.160706Z",
     "shell.execute_reply": "2022-08-17T18:59:44.159879Z"
    },
    "papermill": {
     "duration": 0.021515,
     "end_time": "2022-08-17T18:59:44.162921",
     "exception": false,
     "start_time": "2022-08-17T18:59:44.141406",
     "status": "completed"
    },
    "tags": []
   },
   "outputs": [
    {
     "data": {
      "text/plain": [
       "4.508753564190385"
      ]
     },
     "execution_count": 21,
     "metadata": {},
     "output_type": "execute_result"
    }
   ],
   "source": [
    "mean_squared_error(y_test, y_predict, squared=False)\n",
    "# squred is true if RMSE"
   ]
  },
  {
   "cell_type": "code",
   "execution_count": null,
   "id": "529aabec",
   "metadata": {
    "papermill": {
     "duration": 0.010203,
     "end_time": "2022-08-17T18:59:44.183749",
     "exception": false,
     "start_time": "2022-08-17T18:59:44.173546",
     "status": "completed"
    },
    "tags": []
   },
   "outputs": [],
   "source": []
  },
  {
   "cell_type": "code",
   "execution_count": null,
   "id": "34cafd39",
   "metadata": {
    "papermill": {
     "duration": 0.010513,
     "end_time": "2022-08-17T18:59:44.204732",
     "exception": false,
     "start_time": "2022-08-17T18:59:44.194219",
     "status": "completed"
    },
    "tags": []
   },
   "outputs": [],
   "source": []
  }
 ],
 "metadata": {
  "kernelspec": {
   "display_name": "Python 3",
   "language": "python",
   "name": "python3"
  },
  "language_info": {
   "codemirror_mode": {
    "name": "ipython",
    "version": 3
   },
   "file_extension": ".py",
   "mimetype": "text/x-python",
   "name": "python",
   "nbconvert_exporter": "python",
   "pygments_lexer": "ipython3",
   "version": "3.7.12"
  },
  "papermill": {
   "default_parameters": {},
   "duration": 13.355581,
   "end_time": "2022-08-17T18:59:45.038146",
   "environment_variables": {},
   "exception": null,
   "input_path": "__notebook__.ipynb",
   "output_path": "__notebook__.ipynb",
   "parameters": {},
   "start_time": "2022-08-17T18:59:31.682565",
   "version": "2.3.4"
  }
 },
 "nbformat": 4,
 "nbformat_minor": 5
}
